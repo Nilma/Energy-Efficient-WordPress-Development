{
 "cells": [
  {
   "cell_type": "code",
   "execution_count": 29,
   "id": "7863e968",
   "metadata": {},
   "outputs": [],
   "source": [
    "import pandas as pd\n",
    "import seaborn as sns\n",
    "import matplotlib.pyplot as plt\n",
    "import numpy as np\n",
    "from datetime import datetime\n",
    "import os"
   ]
  },
  {
   "cell_type": "code",
   "execution_count": 33,
   "id": "3587f181",
   "metadata": {},
   "outputs": [
    {
     "name": "stdout",
     "output_type": "stream",
     "text": [
      "site1-energy.csv       site3-energy.csv       site5-energy.csv\r\n",
      "site1-hist-energy.png  site3-hist-energy.png  site5-hist-energy.png\r\n",
      "site2-energy.csv       site4-energy.csv       site6-energy.csv\r\n",
      "site2-hist-energy.png  site4-hist-energy.png  site6-hist-energy.png\r\n"
     ]
    }
   ],
   "source": [
    "ls ../Results-Energy/ "
   ]
  },
  {
   "cell_type": "code",
   "execution_count": 34,
   "id": "19f1d8e5",
   "metadata": {},
   "outputs": [
    {
     "data": {
      "text/html": [
       "<div>\n",
       "<style scoped>\n",
       "    .dataframe tbody tr th:only-of-type {\n",
       "        vertical-align: middle;\n",
       "    }\n",
       "\n",
       "    .dataframe tbody tr th {\n",
       "        vertical-align: top;\n",
       "    }\n",
       "\n",
       "    .dataframe thead th {\n",
       "        text-align: right;\n",
       "    }\n",
       "</style>\n",
       "<table border=\"1\" class=\"dataframe\">\n",
       "  <thead>\n",
       "    <tr style=\"text-align: right;\">\n",
       "      <th></th>\n",
       "      <th>avg client power</th>\n",
       "      <th>avg server power</th>\n",
       "      <th>time</th>\n",
       "      <th>computer</th>\n",
       "      <th>energy</th>\n",
       "      <th>site</th>\n",
       "      <th>theme</th>\n",
       "      <th>plugin</th>\n",
       "    </tr>\n",
       "  </thead>\n",
       "  <tbody>\n",
       "    <tr>\n",
       "      <th>0</th>\n",
       "      <td>2.164591</td>\n",
       "      <td>2.207865</td>\n",
       "      <td>66.799</td>\n",
       "      <td>client energy</td>\n",
       "      <td>144.592497</td>\n",
       "      <td>4</td>\n",
       "      <td>2023</td>\n",
       "      <td>Smush</td>\n",
       "    </tr>\n",
       "    <tr>\n",
       "      <th>1</th>\n",
       "      <td>2.150000</td>\n",
       "      <td>2.128256</td>\n",
       "      <td>66.801</td>\n",
       "      <td>client energy</td>\n",
       "      <td>143.622150</td>\n",
       "      <td>4</td>\n",
       "      <td>2023</td>\n",
       "      <td>Smush</td>\n",
       "    </tr>\n",
       "    <tr>\n",
       "      <th>2</th>\n",
       "      <td>2.156364</td>\n",
       "      <td>2.178818</td>\n",
       "      <td>58.999</td>\n",
       "      <td>client energy</td>\n",
       "      <td>127.223298</td>\n",
       "      <td>4</td>\n",
       "      <td>2023</td>\n",
       "      <td>Smush</td>\n",
       "    </tr>\n",
       "    <tr>\n",
       "      <th>3</th>\n",
       "      <td>2.211215</td>\n",
       "      <td>2.162897</td>\n",
       "      <td>56.995</td>\n",
       "      <td>client energy</td>\n",
       "      <td>126.028196</td>\n",
       "      <td>4</td>\n",
       "      <td>2023</td>\n",
       "      <td>Smush</td>\n",
       "    </tr>\n",
       "    <tr>\n",
       "      <th>4</th>\n",
       "      <td>2.187624</td>\n",
       "      <td>2.190297</td>\n",
       "      <td>55.995</td>\n",
       "      <td>client energy</td>\n",
       "      <td>122.495993</td>\n",
       "      <td>4</td>\n",
       "      <td>2023</td>\n",
       "      <td>Smush</td>\n",
       "    </tr>\n",
       "    <tr>\n",
       "      <th>...</th>\n",
       "      <td>...</td>\n",
       "      <td>...</td>\n",
       "      <td>...</td>\n",
       "      <td>...</td>\n",
       "      <td>...</td>\n",
       "      <td>...</td>\n",
       "      <td>...</td>\n",
       "      <td>...</td>\n",
       "    </tr>\n",
       "    <tr>\n",
       "      <th>357</th>\n",
       "      <td>2.272115</td>\n",
       "      <td>2.264615</td>\n",
       "      <td>20.598</td>\n",
       "      <td>server energy</td>\n",
       "      <td>46.646548</td>\n",
       "      <td>2</td>\n",
       "      <td>Our</td>\n",
       "      <td>-</td>\n",
       "    </tr>\n",
       "    <tr>\n",
       "      <th>358</th>\n",
       "      <td>2.266346</td>\n",
       "      <td>2.212212</td>\n",
       "      <td>20.600</td>\n",
       "      <td>server energy</td>\n",
       "      <td>45.571558</td>\n",
       "      <td>2</td>\n",
       "      <td>Our</td>\n",
       "      <td>-</td>\n",
       "    </tr>\n",
       "    <tr>\n",
       "      <th>359</th>\n",
       "      <td>2.288426</td>\n",
       "      <td>2.262222</td>\n",
       "      <td>21.396</td>\n",
       "      <td>server energy</td>\n",
       "      <td>48.402507</td>\n",
       "      <td>2</td>\n",
       "      <td>Our</td>\n",
       "      <td>-</td>\n",
       "    </tr>\n",
       "    <tr>\n",
       "      <th>360</th>\n",
       "      <td>2.203125</td>\n",
       "      <td>2.258929</td>\n",
       "      <td>22.200</td>\n",
       "      <td>server energy</td>\n",
       "      <td>50.148214</td>\n",
       "      <td>2</td>\n",
       "      <td>Our</td>\n",
       "      <td>-</td>\n",
       "    </tr>\n",
       "    <tr>\n",
       "      <th>361</th>\n",
       "      <td>2.292308</td>\n",
       "      <td>2.247692</td>\n",
       "      <td>20.600</td>\n",
       "      <td>server energy</td>\n",
       "      <td>46.302462</td>\n",
       "      <td>2</td>\n",
       "      <td>Our</td>\n",
       "      <td>-</td>\n",
       "    </tr>\n",
       "  </tbody>\n",
       "</table>\n",
       "<p>362 rows × 8 columns</p>\n",
       "</div>"
      ],
      "text/plain": [
       "     avg client power  avg server power    time       computer      energy  \\\n",
       "0            2.164591          2.207865  66.799  client energy  144.592497   \n",
       "1            2.150000          2.128256  66.801  client energy  143.622150   \n",
       "2            2.156364          2.178818  58.999  client energy  127.223298   \n",
       "3            2.211215          2.162897  56.995  client energy  126.028196   \n",
       "4            2.187624          2.190297  55.995  client energy  122.495993   \n",
       "..                ...               ...     ...            ...         ...   \n",
       "357          2.272115          2.264615  20.598  server energy   46.646548   \n",
       "358          2.266346          2.212212  20.600  server energy   45.571558   \n",
       "359          2.288426          2.262222  21.396  server energy   48.402507   \n",
       "360          2.203125          2.258929  22.200  server energy   50.148214   \n",
       "361          2.292308          2.247692  20.600  server energy   46.302462   \n",
       "\n",
       "     site theme plugin  \n",
       "0       4  2023  Smush  \n",
       "1       4  2023  Smush  \n",
       "2       4  2023  Smush  \n",
       "3       4  2023  Smush  \n",
       "4       4  2023  Smush  \n",
       "..    ...   ...    ...  \n",
       "357     2   Our      -  \n",
       "358     2   Our      -  \n",
       "359     2   Our      -  \n",
       "360     2   Our      -  \n",
       "361     2   Our      -  \n",
       "\n",
       "[362 rows x 8 columns]"
      ]
     },
     "metadata": {},
     "output_type": "display_data"
    }
   ],
   "source": [
    "directory = \"../Results-Energy/\"\n",
    "csv_files = []\n",
    "for root, dirs, files in os.walk(directory):\n",
    "    for file in files:\n",
    "        if file.endswith(\".csv\"):\n",
    "            csv_files.append(os.path.join(root, file))\n",
    "\n",
    "# avg client power\tavg server power\ttime\tcomputer\tenergy\tsite\n",
    "                \n",
    "dataframes = []\n",
    "for csv_file in csv_files:\n",
    "    try:\n",
    "        df = pd.read_csv(csv_file)\n",
    "        dataframes.append(df)\n",
    "    except Exception as e:\n",
    "        print(f\"Error importing {csv_file}: {e}\")\n",
    "\n",
    "df = pd.concat(dataframes, ignore_index=True)\n",
    "display(df)"
   ]
  },
  {
   "cell_type": "code",
   "execution_count": 35,
   "id": "9ebbcfff",
   "metadata": {},
   "outputs": [
    {
     "data": {
      "text/plain": [
       "array([4, 1, 6, 3, 5, 2])"
      ]
     },
     "execution_count": 35,
     "metadata": {},
     "output_type": "execute_result"
    }
   ],
   "source": [
    "df['site'].unique()"
   ]
  },
  {
   "cell_type": "code",
   "execution_count": 54,
   "id": "3f7670a7",
   "metadata": {},
   "outputs": [
    {
     "data": {
      "text/html": [
       "<div>\n",
       "<style scoped>\n",
       "    .dataframe tbody tr th:only-of-type {\n",
       "        vertical-align: middle;\n",
       "    }\n",
       "\n",
       "    .dataframe tbody tr th {\n",
       "        vertical-align: top;\n",
       "    }\n",
       "\n",
       "    .dataframe thead th {\n",
       "        text-align: right;\n",
       "    }\n",
       "</style>\n",
       "<table border=\"1\" class=\"dataframe\">\n",
       "  <thead>\n",
       "    <tr style=\"text-align: right;\">\n",
       "      <th></th>\n",
       "      <th>avg client power</th>\n",
       "      <th>avg server power</th>\n",
       "      <th>time</th>\n",
       "      <th>computer</th>\n",
       "      <th>energy</th>\n",
       "      <th>site</th>\n",
       "      <th>theme</th>\n",
       "      <th>plugin</th>\n",
       "    </tr>\n",
       "  </thead>\n",
       "  <tbody>\n",
       "    <tr>\n",
       "      <th>0</th>\n",
       "      <td>2.164591</td>\n",
       "      <td>2.207865</td>\n",
       "      <td>66.799</td>\n",
       "      <td>client energy</td>\n",
       "      <td>144.592497</td>\n",
       "      <td>4</td>\n",
       "      <td>2023</td>\n",
       "      <td>Smush</td>\n",
       "    </tr>\n",
       "    <tr>\n",
       "      <th>1</th>\n",
       "      <td>2.150000</td>\n",
       "      <td>2.128256</td>\n",
       "      <td>66.801</td>\n",
       "      <td>client energy</td>\n",
       "      <td>143.622150</td>\n",
       "      <td>4</td>\n",
       "      <td>2023</td>\n",
       "      <td>Smush</td>\n",
       "    </tr>\n",
       "    <tr>\n",
       "      <th>2</th>\n",
       "      <td>2.156364</td>\n",
       "      <td>2.178818</td>\n",
       "      <td>58.999</td>\n",
       "      <td>client energy</td>\n",
       "      <td>127.223298</td>\n",
       "      <td>4</td>\n",
       "      <td>2023</td>\n",
       "      <td>Smush</td>\n",
       "    </tr>\n",
       "    <tr>\n",
       "      <th>3</th>\n",
       "      <td>2.211215</td>\n",
       "      <td>2.162897</td>\n",
       "      <td>56.995</td>\n",
       "      <td>client energy</td>\n",
       "      <td>126.028196</td>\n",
       "      <td>4</td>\n",
       "      <td>2023</td>\n",
       "      <td>Smush</td>\n",
       "    </tr>\n",
       "    <tr>\n",
       "      <th>4</th>\n",
       "      <td>2.187624</td>\n",
       "      <td>2.190297</td>\n",
       "      <td>55.995</td>\n",
       "      <td>client energy</td>\n",
       "      <td>122.495993</td>\n",
       "      <td>4</td>\n",
       "      <td>2023</td>\n",
       "      <td>Smush</td>\n",
       "    </tr>\n",
       "  </tbody>\n",
       "</table>\n",
       "</div>"
      ],
      "text/plain": [
       "   avg client power  avg server power    time       computer      energy  \\\n",
       "0          2.164591          2.207865  66.799  client energy  144.592497   \n",
       "1          2.150000          2.128256  66.801  client energy  143.622150   \n",
       "2          2.156364          2.178818  58.999  client energy  127.223298   \n",
       "3          2.211215          2.162897  56.995  client energy  126.028196   \n",
       "4          2.187624          2.190297  55.995  client energy  122.495993   \n",
       "\n",
       "   site theme plugin  \n",
       "0     4  2023  Smush  \n",
       "1     4  2023  Smush  \n",
       "2     4  2023  Smush  \n",
       "3     4  2023  Smush  \n",
       "4     4  2023  Smush  "
      ]
     },
     "execution_count": 54,
     "metadata": {},
     "output_type": "execute_result"
    }
   ],
   "source": [
    "df[df['computer']=='client energy'].head()"
   ]
  },
  {
   "cell_type": "code",
   "execution_count": 55,
   "id": "f2a575b5",
   "metadata": {},
   "outputs": [
    {
     "data": {
      "text/html": [
       "<div>\n",
       "<style scoped>\n",
       "    .dataframe tbody tr th:only-of-type {\n",
       "        vertical-align: middle;\n",
       "    }\n",
       "\n",
       "    .dataframe tbody tr th {\n",
       "        vertical-align: top;\n",
       "    }\n",
       "\n",
       "    .dataframe thead th {\n",
       "        text-align: right;\n",
       "    }\n",
       "</style>\n",
       "<table border=\"1\" class=\"dataframe\">\n",
       "  <thead>\n",
       "    <tr style=\"text-align: right;\">\n",
       "      <th></th>\n",
       "      <th>avg client power</th>\n",
       "      <th>avg server power</th>\n",
       "      <th>time</th>\n",
       "      <th>computer</th>\n",
       "      <th>energy</th>\n",
       "      <th>site</th>\n",
       "      <th>theme</th>\n",
       "      <th>plugin</th>\n",
       "    </tr>\n",
       "  </thead>\n",
       "  <tbody>\n",
       "    <tr>\n",
       "      <th>30</th>\n",
       "      <td>2.164591</td>\n",
       "      <td>2.207865</td>\n",
       "      <td>66.799</td>\n",
       "      <td>server energy</td>\n",
       "      <td>147.483159</td>\n",
       "      <td>4</td>\n",
       "      <td>2023</td>\n",
       "      <td>Smush</td>\n",
       "    </tr>\n",
       "    <tr>\n",
       "      <th>31</th>\n",
       "      <td>2.150000</td>\n",
       "      <td>2.128256</td>\n",
       "      <td>66.801</td>\n",
       "      <td>server energy</td>\n",
       "      <td>142.169644</td>\n",
       "      <td>4</td>\n",
       "      <td>2023</td>\n",
       "      <td>Smush</td>\n",
       "    </tr>\n",
       "    <tr>\n",
       "      <th>32</th>\n",
       "      <td>2.156364</td>\n",
       "      <td>2.178818</td>\n",
       "      <td>58.999</td>\n",
       "      <td>server energy</td>\n",
       "      <td>128.548094</td>\n",
       "      <td>4</td>\n",
       "      <td>2023</td>\n",
       "      <td>Smush</td>\n",
       "    </tr>\n",
       "    <tr>\n",
       "      <th>33</th>\n",
       "      <td>2.211215</td>\n",
       "      <td>2.162897</td>\n",
       "      <td>56.995</td>\n",
       "      <td>server energy</td>\n",
       "      <td>123.274326</td>\n",
       "      <td>4</td>\n",
       "      <td>2023</td>\n",
       "      <td>Smush</td>\n",
       "    </tr>\n",
       "    <tr>\n",
       "      <th>34</th>\n",
       "      <td>2.187624</td>\n",
       "      <td>2.190297</td>\n",
       "      <td>55.995</td>\n",
       "      <td>server energy</td>\n",
       "      <td>122.645682</td>\n",
       "      <td>4</td>\n",
       "      <td>2023</td>\n",
       "      <td>Smush</td>\n",
       "    </tr>\n",
       "  </tbody>\n",
       "</table>\n",
       "</div>"
      ],
      "text/plain": [
       "    avg client power  avg server power    time       computer      energy  \\\n",
       "30          2.164591          2.207865  66.799  server energy  147.483159   \n",
       "31          2.150000          2.128256  66.801  server energy  142.169644   \n",
       "32          2.156364          2.178818  58.999  server energy  128.548094   \n",
       "33          2.211215          2.162897  56.995  server energy  123.274326   \n",
       "34          2.187624          2.190297  55.995  server energy  122.645682   \n",
       "\n",
       "    site theme plugin  \n",
       "30     4  2023  Smush  \n",
       "31     4  2023  Smush  \n",
       "32     4  2023  Smush  \n",
       "33     4  2023  Smush  \n",
       "34     4  2023  Smush  "
      ]
     },
     "execution_count": 55,
     "metadata": {},
     "output_type": "execute_result"
    }
   ],
   "source": [
    "df[df['computer']=='server energy'].head()"
   ]
  },
  {
   "cell_type": "code",
   "execution_count": 37,
   "id": "59a9f5e2",
   "metadata": {},
   "outputs": [
    {
     "data": {
      "text/plain": [
       "Index(['avg client power', 'avg server power', 'time', 'computer', 'energy',\n",
       "       'site', 'theme', 'plugin'],\n",
       "      dtype='object')"
      ]
     },
     "execution_count": 37,
     "metadata": {},
     "output_type": "execute_result"
    }
   ],
   "source": [
    "df.columns"
   ]
  },
  {
   "cell_type": "code",
   "execution_count": 40,
   "id": "f6734ee3",
   "metadata": {},
   "outputs": [
    {
     "data": {
      "text/plain": [
       "avg client power    float64\n",
       "avg server power    float64\n",
       "time                float64\n",
       "computer             object\n",
       "energy              float64\n",
       "site                  int64\n",
       "theme                object\n",
       "plugin               object\n",
       "dtype: object"
      ]
     },
     "execution_count": 40,
     "metadata": {},
     "output_type": "execute_result"
    }
   ],
   "source": [
    "df.dtypes"
   ]
  },
  {
   "cell_type": "code",
   "execution_count": 45,
   "id": "5e449d3c",
   "metadata": {},
   "outputs": [
    {
     "data": {
      "text/html": [
       "<div>\n",
       "<style scoped>\n",
       "    .dataframe tbody tr th:only-of-type {\n",
       "        vertical-align: middle;\n",
       "    }\n",
       "\n",
       "    .dataframe tbody tr th {\n",
       "        vertical-align: top;\n",
       "    }\n",
       "\n",
       "    .dataframe thead th {\n",
       "        text-align: right;\n",
       "    }\n",
       "</style>\n",
       "<table border=\"1\" class=\"dataframe\">\n",
       "  <thead>\n",
       "    <tr style=\"text-align: right;\">\n",
       "      <th></th>\n",
       "      <th>avg client power</th>\n",
       "      <th>avg server power</th>\n",
       "      <th>time</th>\n",
       "      <th>computer</th>\n",
       "      <th>energy</th>\n",
       "      <th>site</th>\n",
       "      <th>theme</th>\n",
       "      <th>plugin</th>\n",
       "    </tr>\n",
       "  </thead>\n",
       "  <tbody>\n",
       "    <tr>\n",
       "      <th>0</th>\n",
       "      <td>2.164591</td>\n",
       "      <td>2.207865</td>\n",
       "      <td>66.799</td>\n",
       "      <td>client energy</td>\n",
       "      <td>144.592497</td>\n",
       "      <td>4</td>\n",
       "      <td>2023</td>\n",
       "      <td>Smush</td>\n",
       "    </tr>\n",
       "    <tr>\n",
       "      <th>1</th>\n",
       "      <td>2.150000</td>\n",
       "      <td>2.128256</td>\n",
       "      <td>66.801</td>\n",
       "      <td>client energy</td>\n",
       "      <td>143.622150</td>\n",
       "      <td>4</td>\n",
       "      <td>2023</td>\n",
       "      <td>Smush</td>\n",
       "    </tr>\n",
       "    <tr>\n",
       "      <th>2</th>\n",
       "      <td>2.156364</td>\n",
       "      <td>2.178818</td>\n",
       "      <td>58.999</td>\n",
       "      <td>client energy</td>\n",
       "      <td>127.223298</td>\n",
       "      <td>4</td>\n",
       "      <td>2023</td>\n",
       "      <td>Smush</td>\n",
       "    </tr>\n",
       "    <tr>\n",
       "      <th>3</th>\n",
       "      <td>2.211215</td>\n",
       "      <td>2.162897</td>\n",
       "      <td>56.995</td>\n",
       "      <td>client energy</td>\n",
       "      <td>126.028196</td>\n",
       "      <td>4</td>\n",
       "      <td>2023</td>\n",
       "      <td>Smush</td>\n",
       "    </tr>\n",
       "    <tr>\n",
       "      <th>4</th>\n",
       "      <td>2.187624</td>\n",
       "      <td>2.190297</td>\n",
       "      <td>55.995</td>\n",
       "      <td>client energy</td>\n",
       "      <td>122.495993</td>\n",
       "      <td>4</td>\n",
       "      <td>2023</td>\n",
       "      <td>Smush</td>\n",
       "    </tr>\n",
       "  </tbody>\n",
       "</table>\n",
       "</div>"
      ],
      "text/plain": [
       "   avg client power  avg server power    time       computer      energy  \\\n",
       "0          2.164591          2.207865  66.799  client energy  144.592497   \n",
       "1          2.150000          2.128256  66.801  client energy  143.622150   \n",
       "2          2.156364          2.178818  58.999  client energy  127.223298   \n",
       "3          2.211215          2.162897  56.995  client energy  126.028196   \n",
       "4          2.187624          2.190297  55.995  client energy  122.495993   \n",
       "\n",
       "   site theme plugin  \n",
       "0     4  2023  Smush  \n",
       "1     4  2023  Smush  \n",
       "2     4  2023  Smush  \n",
       "3     4  2023  Smush  \n",
       "4     4  2023  Smush  "
      ]
     },
     "execution_count": 45,
     "metadata": {},
     "output_type": "execute_result"
    }
   ],
   "source": [
    "df.head()"
   ]
  },
  {
   "cell_type": "code",
   "execution_count": 58,
   "id": "aac203d8",
   "metadata": {},
   "outputs": [
    {
     "data": {
      "text/plain": [
       "<AxesSubplot:xlabel='energy', ylabel='Count'>"
      ]
     },
     "execution_count": 58,
     "metadata": {},
     "output_type": "execute_result"
    },
    {
     "data": {
      "image/png": "[encoded data removed]",
      "text/plain": [
       "<Figure size 432x288 with 1 Axes>"
      ]
     },
     "metadata": {
      "needs_background": "light"
     },
     "output_type": "display_data"
    }
   ],
   "source": [
    "sns.histplot(data=df, x='energy',hue='computer', palette='colorblind',kde=True)"
   ]
  },
  {
   "cell_type": "code",
   "execution_count": 52,
   "id": "ae7ae40c",
   "metadata": {},
   "outputs": [
    {
     "data": {
      "text/plain": [
       "<AxesSubplot:xlabel='energy', ylabel='Density'>"
      ]
     },
     "execution_count": 52,
     "metadata": {},
     "output_type": "execute_result"
    },
    {
     "data": {
      "image/png": "[encoded data removed]",
      "text/plain": [
       "<Figure size 432x288 with 1 Axes>"
      ]
     },
     "metadata": {
      "needs_background": "light"
     },
     "output_type": "display_data"
    }
   ],
   "source": [
    "sns.kdeplot(data=df[df['computer']=='server energy'], x='energy',hue='theme', palette='colorblind')"
   ]
  },
  {
   "cell_type": "code",
   "execution_count": 49,
   "id": "a9db8bbc",
   "metadata": {},
   "outputs": [
    {
     "data": {
      "text/plain": [
       "<AxesSubplot:xlabel='energy', ylabel='plugin'>"
      ]
     },
     "execution_count": 49,
     "metadata": {},
     "output_type": "execute_result"
    },
    {
     "data": {
      "image/png": "[encoded data removed]",
      "text/plain": [
       "<Figure size 432x288 with 1 Axes>"
      ]
     },
     "metadata": {
      "needs_background": "light"
     },
     "output_type": "display_data"
    }
   ],
   "source": [
    "sns.boxplot(data=df[df['computer']=='client energy'], x='energy',y='plugin', palette='colorblind')"
   ]
  },
  {
   "cell_type": "code",
   "execution_count": 50,
   "id": "9cd24f69",
   "metadata": {},
   "outputs": [
    {
     "data": {
      "text/plain": [
       "<AxesSubplot:xlabel='energy', ylabel='plugin'>"
      ]
     },
     "execution_count": 50,
     "metadata": {},
     "output_type": "execute_result"
    },
    {
     "data": {
      "image/png": "[encoded data removed]",
      "text/plain": [
       "<Figure size 432x288 with 1 Axes>"
      ]
     },
     "metadata": {
      "needs_background": "light"
     },
     "output_type": "display_data"
    }
   ],
   "source": [
    "sns.boxplot(data=df[df['computer']=='server energy'], x='energy',y='plugin', palette='colorblind')"
   ]
  },
  {
   "cell_type": "code",
   "execution_count": 38,
   "id": "36c39642",
   "metadata": {},
   "outputs": [
    {
     "data": {
      "text/plain": [
       "<AxesSubplot:xlabel='energy', ylabel='Density'>"
      ]
     },
     "execution_count": 38,
     "metadata": {},
     "output_type": "execute_result"
    },
    {
     "data": {
      "image/png": "[encoded data removed]",
      "text/plain": [
       "<Figure size 432x288 with 1 Axes>"
      ]
     },
     "metadata": {
      "needs_background": "light"
     },
     "output_type": "display_data"
    }
   ],
   "source": [
    "sns.kdeplot(data=df[df['computer']=='client energy'], x='energy',hue='site', palette='colorblind')"
   ]
  },
  {
   "cell_type": "code",
   "execution_count": 43,
   "id": "60220da7",
   "metadata": {},
   "outputs": [
    {
     "data": {
      "text/plain": [
       "<AxesSubplot:xlabel='energy', ylabel='Density'>"
      ]
     },
     "execution_count": 43,
     "metadata": {},
     "output_type": "execute_result"
    },
    {
     "data": {
      "image/png": "[encoded data removed]",
      "text/plain": [
       "<Figure size 432x288 with 1 Axes>"
      ]
     },
     "metadata": {
      "needs_background": "light"
     },
     "output_type": "display_data"
    }
   ],
   "source": [
    "sns.kdeplot(data=df[df['computer']=='server energy'], x='energy',hue='site', palette='colorblind')"
   ]
  },
  {
   "cell_type": "code",
   "execution_count": 44,
   "id": "8ded1307",
   "metadata": {},
   "outputs": [
    {
     "data": {
      "text/plain": [
       "<AxesSubplot:xlabel='energy', ylabel='site'>"
      ]
     },
     "execution_count": 44,
     "metadata": {},
     "output_type": "execute_result"
    },
    {
     "data": {
      "image/png": "[encoded data removed]",
      "text/plain": [
       "<Figure size 432x288 with 1 Axes>"
      ]
     },
     "metadata": {
      "needs_background": "light"
     },
     "output_type": "display_data"
    }
   ],
   "source": [
    "sns.boxplot(data=df, x='energy', hue='site',y='site', palette='colorblind')"
   ]
  },
  {
   "cell_type": "code",
   "execution_count": 28,
   "id": "941de74e",
   "metadata": {},
   "outputs": [
    {
     "data": {
      "text/plain": [
       "<seaborn.axisgrid.FacetGrid at 0x7f9b4d0e4c40>"
      ]
     },
     "execution_count": 28,
     "metadata": {},
     "output_type": "execute_result"
    },
    {
     "data": {
      "image/png": "[encoded data removed]",
      "text/plain": [
       "<Figure size 402.375x360 with 1 Axes>"
      ]
     },
     "metadata": {
      "needs_background": "light"
     },
     "output_type": "display_data"
    }
   ],
   "source": [
    "sns.relplot(data=df, x='energy', y='time', hue='site',  palette='colorblind')"
   ]
  },
  {
   "cell_type": "code",
   "execution_count": null,
   "id": "40db8e71",
   "metadata": {},
   "outputs": [],
   "source": []
  }
 ],
 "metadata": {
  "kernelspec": {
   "display_name": "Python 3 (ipykernel)",
   "language": "python",
   "name": "python3"
  },
  "language_info": {
   "codemirror_mode": {
    "name": "ipython",
    "version": 3
   },
   "file_extension": ".py",
   "mimetype": "text/x-python",
   "name": "python",
   "nbconvert_exporter": "python",
   "pygments_lexer": "ipython3",
   "version": "3.8.13"
  }
 },
 "nbformat": 4,
 "nbformat_minor": 5
}
